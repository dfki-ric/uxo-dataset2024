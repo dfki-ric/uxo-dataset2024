{
 "cells": [
  {
   "cell_type": "code",
   "execution_count": null,
   "metadata": {},
   "outputs": [],
   "source": [
    "import pandas as pd\n",
    "import numpy as np\n",
    "import os\n",
    "from scipy.spatial.transform import Rotation as R\n",
    "\n",
    "import matplotlib.pyplot as plt\n",
    "from mpl_toolkits.mplot3d import Axes3D \n",
    "%matplotlib ipympl"
   ]
  },
  {
   "cell_type": "code",
   "execution_count": null,
   "metadata": {},
   "outputs": [],
   "source": [
    "from common.transforms import get_tf_manager\n",
    "tm = get_tf_manager()"
   ]
  },
  {
   "cell_type": "code",
   "execution_count": null,
   "metadata": {},
   "outputs": [
    {
     "name": "stdout",
     "output_type": "stream",
     "text": [
      "No valid config path given, defaulting to /home/mbandefirvida/Documents/cleanseas/eggers_uxo_datamatching/scripts/common/../config.yaml\n"
     ]
    }
   ],
   "source": [
    "from common.config import get_config\n",
    "config = get_config()"
   ]
  },
  {
   "cell_type": "code",
   "execution_count": null,
   "metadata": {},
   "outputs": [],
   "source": [
    "ROOT= '../' + config['aris_extract']\n",
    "DATASET = '2023-09-20_171105'\n",
    "FILENAME = 'ar3.csv'"
   ]
  },
  {
   "cell_type": "code",
   "execution_count": null,
   "metadata": {},
   "outputs": [
    {
     "data": {
      "text/html": [
       "<div>\n",
       "<style scoped>\n",
       "    .dataframe tbody tr th:only-of-type {\n",
       "        vertical-align: middle;\n",
       "    }\n",
       "\n",
       "    .dataframe tbody tr th {\n",
       "        vertical-align: top;\n",
       "    }\n",
       "\n",
       "    .dataframe thead th {\n",
       "        text-align: right;\n",
       "    }\n",
       "</style>\n",
       "<table border=\"1\" class=\"dataframe\">\n",
       "  <thead>\n",
       "    <tr style=\"text-align: right;\">\n",
       "      <th></th>\n",
       "      <th>aris_frame_idx</th>\n",
       "      <th>pos.x</th>\n",
       "      <th>pos.y</th>\n",
       "      <th>pos.z</th>\n",
       "      <th>rot.x</th>\n",
       "      <th>rot.y</th>\n",
       "      <th>rot.z</th>\n",
       "      <th>rot.w</th>\n",
       "    </tr>\n",
       "  </thead>\n",
       "  <tbody>\n",
       "    <tr>\n",
       "      <th>0</th>\n",
       "      <td>622</td>\n",
       "      <td>0.165015</td>\n",
       "      <td>1.173479</td>\n",
       "      <td>-1.088</td>\n",
       "      <td>0.929728</td>\n",
       "      <td>0.314956</td>\n",
       "      <td>-0.180721</td>\n",
       "      <td>0.061221</td>\n",
       "    </tr>\n",
       "    <tr>\n",
       "      <th>1</th>\n",
       "      <td>623</td>\n",
       "      <td>0.165042</td>\n",
       "      <td>1.172802</td>\n",
       "      <td>-1.088</td>\n",
       "      <td>0.929154</td>\n",
       "      <td>0.316647</td>\n",
       "      <td>-0.180609</td>\n",
       "      <td>0.061550</td>\n",
       "    </tr>\n",
       "    <tr>\n",
       "      <th>2</th>\n",
       "      <td>624</td>\n",
       "      <td>0.165097</td>\n",
       "      <td>1.171552</td>\n",
       "      <td>-1.088</td>\n",
       "      <td>0.928708</td>\n",
       "      <td>0.317951</td>\n",
       "      <td>-0.180523</td>\n",
       "      <td>0.061803</td>\n",
       "    </tr>\n",
       "    <tr>\n",
       "      <th>3</th>\n",
       "      <td>625</td>\n",
       "      <td>0.165183</td>\n",
       "      <td>1.169602</td>\n",
       "      <td>-1.088</td>\n",
       "      <td>0.927984</td>\n",
       "      <td>0.320058</td>\n",
       "      <td>-0.180382</td>\n",
       "      <td>0.062213</td>\n",
       "    </tr>\n",
       "    <tr>\n",
       "      <th>4</th>\n",
       "      <td>626</td>\n",
       "      <td>0.165284</td>\n",
       "      <td>1.167383</td>\n",
       "      <td>-1.088</td>\n",
       "      <td>0.927247</td>\n",
       "      <td>0.322187</td>\n",
       "      <td>-0.180239</td>\n",
       "      <td>0.062627</td>\n",
       "    </tr>\n",
       "    <tr>\n",
       "      <th>...</th>\n",
       "      <td>...</td>\n",
       "      <td>...</td>\n",
       "      <td>...</td>\n",
       "      <td>...</td>\n",
       "      <td>...</td>\n",
       "      <td>...</td>\n",
       "      <td>...</td>\n",
       "      <td>...</td>\n",
       "    </tr>\n",
       "    <tr>\n",
       "      <th>713</th>\n",
       "      <td>1335</td>\n",
       "      <td>2.142072</td>\n",
       "      <td>0.924056</td>\n",
       "      <td>-1.088</td>\n",
       "      <td>0.217151</td>\n",
       "      <td>0.957307</td>\n",
       "      <td>-0.042210</td>\n",
       "      <td>0.186082</td>\n",
       "    </tr>\n",
       "    <tr>\n",
       "      <th>714</th>\n",
       "      <td>1336</td>\n",
       "      <td>2.143628</td>\n",
       "      <td>0.927152</td>\n",
       "      <td>-1.088</td>\n",
       "      <td>0.216797</td>\n",
       "      <td>0.957388</td>\n",
       "      <td>-0.042141</td>\n",
       "      <td>0.186097</td>\n",
       "    </tr>\n",
       "    <tr>\n",
       "      <th>715</th>\n",
       "      <td>1337</td>\n",
       "      <td>2.145554</td>\n",
       "      <td>0.931040</td>\n",
       "      <td>-1.088</td>\n",
       "      <td>0.216435</td>\n",
       "      <td>0.957469</td>\n",
       "      <td>-0.042071</td>\n",
       "      <td>0.186113</td>\n",
       "    </tr>\n",
       "    <tr>\n",
       "      <th>716</th>\n",
       "      <td>1338</td>\n",
       "      <td>2.146880</td>\n",
       "      <td>0.933994</td>\n",
       "      <td>-1.088</td>\n",
       "      <td>0.216169</td>\n",
       "      <td>0.957530</td>\n",
       "      <td>-0.042019</td>\n",
       "      <td>0.186125</td>\n",
       "    </tr>\n",
       "    <tr>\n",
       "      <th>717</th>\n",
       "      <td>1339</td>\n",
       "      <td>2.149295</td>\n",
       "      <td>0.939294</td>\n",
       "      <td>-1.088</td>\n",
       "      <td>0.216127</td>\n",
       "      <td>0.957539</td>\n",
       "      <td>-0.042011</td>\n",
       "      <td>0.186127</td>\n",
       "    </tr>\n",
       "  </tbody>\n",
       "</table>\n",
       "<p>718 rows × 8 columns</p>\n",
       "</div>"
      ],
      "text/plain": [
       "     aris_frame_idx     pos.x     pos.y  pos.z     rot.x     rot.y     rot.z  \\\n",
       "0               622  0.165015  1.173479 -1.088  0.929728  0.314956 -0.180721   \n",
       "1               623  0.165042  1.172802 -1.088  0.929154  0.316647 -0.180609   \n",
       "2               624  0.165097  1.171552 -1.088  0.928708  0.317951 -0.180523   \n",
       "3               625  0.165183  1.169602 -1.088  0.927984  0.320058 -0.180382   \n",
       "4               626  0.165284  1.167383 -1.088  0.927247  0.322187 -0.180239   \n",
       "..              ...       ...       ...    ...       ...       ...       ...   \n",
       "713            1335  2.142072  0.924056 -1.088  0.217151  0.957307 -0.042210   \n",
       "714            1336  2.143628  0.927152 -1.088  0.216797  0.957388 -0.042141   \n",
       "715            1337  2.145554  0.931040 -1.088  0.216435  0.957469 -0.042071   \n",
       "716            1338  2.146880  0.933994 -1.088  0.216169  0.957530 -0.042019   \n",
       "717            1339  2.149295  0.939294 -1.088  0.216127  0.957539 -0.042011   \n",
       "\n",
       "        rot.w  \n",
       "0    0.061221  \n",
       "1    0.061550  \n",
       "2    0.061803  \n",
       "3    0.062213  \n",
       "4    0.062627  \n",
       "..        ...  \n",
       "713  0.186082  \n",
       "714  0.186097  \n",
       "715  0.186113  \n",
       "716  0.186125  \n",
       "717  0.186127  \n",
       "\n",
       "[718 rows x 8 columns]"
      ]
     },
     "metadata": {},
     "output_type": "display_data"
    }
   ],
   "source": [
    "df_ar3 = pd.read_csv(os.path.join(ROOT, DATASET, FILENAME))\n",
    "df_ar3"
   ]
  },
  {
   "cell_type": "code",
   "execution_count": null,
   "metadata": {},
   "outputs": [],
   "source": [
    "from pytransform3d.plot_utils import make_3d_axis\n",
    "import pytransform3d.transformations as pytr\n",
    "from pytransform3d import visualizer as pv"
   ]
  },
  {
   "cell_type": "code",
   "execution_count": null,
   "metadata": {},
   "outputs": [],
   "source": [
    "ROOT_MESH = os.path.join('..', '..', '3d_models')\n",
    "SCALING=20\n",
    "\n",
    "fig = pv.figure()\n",
    "fig.plot_mesh(filename=os.path.join(ROOT_MESH, \"100lbs_aircraft_bomb/100lbs_aircraft_bomb.stl\"), s=np.ones(3), A2B=tm.get_transform(\"target/100lbs\", \"world\"))\n",
    "\n",
    "fig.plot_transform(A2B=tm.get_transform(\"target/100lbs\", \"world\"), s=0.2)\n",
    "\n",
    "for index, row in df_ar3.iloc[::SCALING].iterrows():\n",
    "\n",
    "    tm.add_transform(\"setup/ar3\", \"world\", A2B=pytr.transform_from(R.from_quat(row[['rot.x','rot.y', 'rot.z', 'rot.w']]).as_matrix(), row[['pos.x','pos.y', 'pos.z']]))\n",
    "    fig.plot_transform(A2B=tm.get_transform(\"setup/camera\", \"world\"), s=0.2)\n",
    "\n",
    "fig.show()"
   ]
  },
  {
   "cell_type": "markdown",
   "metadata": {},
   "source": [
    "---\n",
    "## Camera tilt"
   ]
  },
  {
   "cell_type": "code",
   "execution_count": null,
   "metadata": {},
   "outputs": [],
   "source": [
    "import cv2"
   ]
  },
  {
   "cell_type": "code",
   "execution_count": null,
   "metadata": {},
   "outputs": [
    {
     "data": {
      "text/html": [
       "<div>\n",
       "<style scoped>\n",
       "    .dataframe tbody tr th:only-of-type {\n",
       "        vertical-align: middle;\n",
       "    }\n",
       "\n",
       "    .dataframe tbody tr th {\n",
       "        vertical-align: top;\n",
       "    }\n",
       "\n",
       "    .dataframe thead th {\n",
       "        text-align: right;\n",
       "    }\n",
       "</style>\n",
       "<table border=\"1\" class=\"dataframe\">\n",
       "  <thead>\n",
       "    <tr style=\"text-align: right;\">\n",
       "      <th></th>\n",
       "      <th>aris_frame_idx</th>\n",
       "      <th>pos.x</th>\n",
       "      <th>pos.y</th>\n",
       "      <th>pos.z</th>\n",
       "      <th>rot.x</th>\n",
       "      <th>rot.y</th>\n",
       "      <th>rot.z</th>\n",
       "      <th>rot.w</th>\n",
       "    </tr>\n",
       "  </thead>\n",
       "  <tbody>\n",
       "    <tr>\n",
       "      <th>589</th>\n",
       "      <td>1211</td>\n",
       "      <td>1.848146</td>\n",
       "      <td>0.627722</td>\n",
       "      <td>-1.088</td>\n",
       "      <td>0.407265</td>\n",
       "      <td>0.893156</td>\n",
       "      <td>-0.079164</td>\n",
       "      <td>0.173612</td>\n",
       "    </tr>\n",
       "  </tbody>\n",
       "</table>\n",
       "</div>"
      ],
      "text/plain": [
       "     aris_frame_idx     pos.x     pos.y  pos.z     rot.x     rot.y     rot.z  \\\n",
       "589            1211  1.848146  0.627722 -1.088  0.407265  0.893156 -0.079164   \n",
       "\n",
       "        rot.w  \n",
       "589  0.173612  "
      ]
     },
     "metadata": {},
     "output_type": "display_data"
    }
   ],
   "source": [
    "ROOT_IMG = '/home/mbandefirvida/Documents/cleanseas/datasets/eggers_kampfmittelbergung-aris3000-black_basin/2023-09-20_171105/gopro/restored'\n",
    "FRAME_ID = 1211\n",
    "row = df_ar3[df_ar3.aris_frame_idx == FRAME_ID]\n",
    "row"
   ]
  },
  {
   "cell_type": "code",
   "execution_count": null,
   "metadata": {},
   "outputs": [
    {
     "data": {
      "text/plain": [
       "<pytransform3d.transform_manager.TransformManager at 0x7fa9eb2b9a90>"
      ]
     },
     "metadata": {},
     "output_type": "display_data"
    }
   ],
   "source": [
    "tm.add_transform(\"setup/ar3\", \"world\", A2B=pytr.transform_from(R.from_quat(row[['rot.x','rot.y', 'rot.z', 'rot.w']]).as_matrix(), row[['pos.x','pos.y', 'pos.z']]))"
   ]
  },
  {
   "cell_type": "code",
   "execution_count": null,
   "metadata": {},
   "outputs": [],
   "source": [
    "ROOT_MESH = os.path.join('..', '..', '3d_models')\n",
    "SCALING=20\n",
    "\n",
    "fig = pv.figure()\n",
    "fig.plot_mesh(filename=os.path.join(ROOT_MESH, \"100lbs_aircraft_bomb/100lbs_aircraft_bomb.stl\"), s=np.ones(3), A2B=tm.get_transform(\"target/100lbs\", \"world\"))\n",
    "\n",
    "fig.plot_transform(A2B=tm.get_transform(\"target/100lbs\", \"world\"), s=0.2)\n",
    "fig.plot_transform(A2B=tm.get_transform(\"setup/camera\", \"world\"), s=0.2)\n",
    "\n",
    "fig.show()"
   ]
  },
  {
   "cell_type": "code",
   "execution_count": null,
   "metadata": {},
   "outputs": [
    {
     "data": {
      "text/plain": [
       "array([[ 0.75499007,  0.65573623,  0.        ,  0.178494  ],\n",
       "       [ 0.28745525, -0.33096518, -0.89879449,  0.03468642],\n",
       "       [-0.58937211,  0.67858091, -0.43837024,  1.02410471],\n",
       "       [ 0.        ,  0.        ,  0.        ,  1.        ]])"
      ]
     },
     "metadata": {},
     "output_type": "display_data"
    }
   ],
   "source": [
    "tm.get_transform(\"target/100lbs\", \"setup/camera\")"
   ]
  }
 ],
 "metadata": {
  "language_info": {
   "name": "python"
  },
  "orig_nbformat": 4
 },
 "nbformat": 4,
 "nbformat_minor": 2
}
